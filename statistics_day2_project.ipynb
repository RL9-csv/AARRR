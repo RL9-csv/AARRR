{
 "cells": [
  {
   "cell_type": "code",
   "execution_count": 1,
   "id": "1c94a78e",
   "metadata": {},
   "outputs": [
    {
     "name": "stdout",
     "output_type": "stream",
     "text": [
      "t-값: -2.5000, p-value: 0.0098. 유의수준 0.05에서 귀무가설을 기각합니다. 빵의 평균 무게는 목표와 다릅니다.\n"
     ]
    }
   ],
   "source": [
    "import scipy.stats as stats\n",
    "\n",
    "# 문제 정보\n",
    "sample_mean = 495   # 샘플 평균\n",
    "pop_mean = 500      # 모집단 평균 (목표 무게)\n",
    "std_dev = 10        # 표준편차\n",
    "n = 25              # 샘플 개수\n",
    "alpha = 0.05        # 유의수준\n",
    "\n",
    "# t-검정 통계량 계산\n",
    "t_statistic = (sample_mean - pop_mean) / (std_dev / (n ** 0.5))\n",
    "p_value = stats.t.cdf(t_statistic, df=n-1)  # 좌측 검정이므로 cdf 사용\n",
    "\n",
    "# 결과 출력\n",
    "if p_value < alpha:\n",
    "    print(f\"t-값: {t_statistic:.4f}, p-value: {p_value:.4f}. 유의수준 {alpha}에서 귀무가설을 기각합니다. 빵의 평균 무게는 목표와 다릅니다.\")\n",
    "else:\n",
    "    print(f\"t-값: {t_statistic:.4f}, p-value: {p_value:.4f}. 유의수준 {alpha}에서 귀무가설을 채택합니다. 빵의 평균 무게는 목표와 통계적으로 차이가 없습니다.\")"
   ]
  },
  {
   "cell_type": "code",
   "execution_count": 3,
   "id": "ab3c029b",
   "metadata": {},
   "outputs": [
    {
     "data": {
      "image/png": "[encoded data removed]",
      "text/plain": [
       "<Figure size 640x480 with 1 Axes>"
      ]
     },
     "metadata": {},
     "output_type": "display_data"
    }
   ],
   "source": [
    "import numpy as np\n",
    "import matplotlib.pyplot as plt\n",
    "from scipy.stats import t\n",
    "\n",
    "df = 24\n",
    "alpha = 0.05\n",
    "t_stat = -2.5\n",
    "t_crit = t.ppf(1 - alpha / 2, df)\n",
    "\n",
    "x = np.linspace(-4, 4, 500)\n",
    "y = t.pdf(x, df)\n",
    "\n",
    "plt.plot(x, y)\n",
    "plt.axvline(t_stat, color='red', linestyle='--')\n",
    "plt.axvline(-t_crit, color='green', linestyle='--')\n",
    "plt.axvline(t_crit, color='green', linestyle='--')\n",
    "plt.fill_between(x, y, where=(x < -t_crit) | (x > t_crit), color='green', alpha=0.3)\n",
    "plt.show()"
   ]
  },
  {
   "cell_type": "code",
   "execution_count": 23,
   "id": "1f93dc0a",
   "metadata": {},
   "outputs": [
    {
     "name": "stdout",
     "output_type": "stream",
     "text": [
      "t-값: 6.3898, p-value: 0.0000. 유의수준 0.05에서 귀무가설을 기각합니다.\n"
     ]
    }
   ],
   "source": [
    "from scipy.stats import ttest_ind, levene\n",
    "\n",
    "# 그룹 A, B의 체중 감소량 데이터\n",
    "group_A = [5.1, 4.7, 6.2, 4.9, 5.3, 6.1, 5.0, 5.8, 4.8, 5.2]\n",
    "group_B = [4.3, 4.1, 3.8, 4.6, 4.0, 4.5, 3.7, 4.2, 3.9, 4.4, 3.5, 4.3]\n",
    "\n",
    "# 등분산 검정\n",
    "stat, p_var = levene(group_A, group_B)\n",
    "equal_var = p_var >= 0.05  # p_var가 0.05 이상이면 등분산 가정 O\n",
    "\n",
    "# 독립표본 t-test\n",
    "t_stat, p_value = ttest_ind(group_A, group_B, equal_var=equal_var)\n",
    "\n",
    "# 결과 출력\n",
    "alpha = 0.05\n",
    "if p_value < alpha:\n",
    "    print(f\"t-값: {t_stat:.4f}, p-value: {p_value:.4f}. 유의수준 {alpha}에서 귀무가설을 기각합니다.\")\n",
    "else:\n",
    "    print(f\"t-값: {t_stat:.4f}, p-value: {p_value:.4f}. 유의수준 {alpha}에서 귀무가설을 채택합니다.\")"
   ]
  },
  {
   "cell_type": "code",
   "execution_count": 24,
   "id": "ac4b5b6a",
   "metadata": {},
   "outputs": [
    {
     "name": "stdout",
     "output_type": "stream",
     "text": [
      "t-값: 9.0000, p-value: 0.0000. 유의수준 0.05에서 귀무가설을 기각합니다.\n"
     ]
    }
   ],
   "source": [
    "import numpy as np\n",
    "from scipy.stats import ttest_rel\n",
    "\n",
    "# 운동 전후 체중 데이터\n",
    "before = np.array([70, 80, 65, 90, 75, 85, 78, 82, 68, 73])\n",
    "after = np.array([68, 78, 64, 88, 74, 83, 77, 80, 67, 72])\n",
    "\n",
    "# 대응표본 t-검정\n",
    "t_stat, p_value = ttest_rel(before, after)\n",
    "\n",
    "# 결과 출력\n",
    "alpha = 0.05\n",
    "if p_value < alpha:\n",
    "    print(f\"t-값: {t_stat:.4f}, p-value: {p_value:.4f}. 유의수준 {alpha}에서 귀무가설을 기각합니다.\")\n",
    "else:\n",
    "    print(f\"t-값: {t_stat:.4f}, p-value: {p_value:.4f}. 유의수준 {alpha}에서 귀무가설을 채택합니다.\")"
   ]
  },
  {
   "cell_type": "code",
   "execution_count": 29,
   "id": "5b6bd1b8",
   "metadata": {},
   "outputs": [
    {
     "name": "stdout",
     "output_type": "stream",
     "text": [
      "Collecting kagglehub\n",
      "  Downloading kagglehub-0.3.12-py3-none-any.whl.metadata (38 kB)\n",
      "Requirement already satisfied: packaging in c:\\users\\shoot\\appdata\\local\\programs\\python\\python313\\lib\\site-packages (from kagglehub) (24.2)\n",
      "Requirement already satisfied: pyyaml in c:\\users\\shoot\\appdata\\local\\programs\\python\\python313\\lib\\site-packages (from kagglehub) (6.0.2)\n",
      "Requirement already satisfied: requests in c:\\users\\shoot\\appdata\\local\\programs\\python\\python313\\lib\\site-packages (from kagglehub) (2.32.3)\n",
      "Requirement already satisfied: tqdm in c:\\users\\shoot\\appdata\\local\\programs\\python\\python313\\lib\\site-packages (from kagglehub) (4.67.1)\n",
      "Requirement already satisfied: charset-normalizer<4,>=2 in c:\\users\\shoot\\appdata\\local\\programs\\python\\python313\\lib\\site-packages (from requests->kagglehub) (3.4.1)\n",
      "Requirement already satisfied: idna<4,>=2.5 in c:\\users\\shoot\\appdata\\local\\programs\\python\\python313\\lib\\site-packages (from requests->kagglehub) (3.10)\n",
      "Requirement already satisfied: urllib3<3,>=1.21.1 in c:\\users\\shoot\\appdata\\local\\programs\\python\\python313\\lib\\site-packages (from requests->kagglehub) (2.3.0)\n",
      "Requirement already satisfied: certifi>=2017.4.17 in c:\\users\\shoot\\appdata\\local\\programs\\python\\python313\\lib\\site-packages (from requests->kagglehub) (2025.1.31)\n",
      "Requirement already satisfied: colorama in c:\\users\\shoot\\appdata\\local\\programs\\python\\python313\\lib\\site-packages (from tqdm->kagglehub) (0.4.6)\n",
      "Downloading kagglehub-0.3.12-py3-none-any.whl (67 kB)\n",
      "Installing collected packages: kagglehub\n",
      "Successfully installed kagglehub-0.3.12\n",
      "Note: you may need to restart the kernel to use updated packages.\n"
     ]
    },
    {
     "name": "stderr",
     "output_type": "stream",
     "text": [
      "\n",
      "[notice] A new release of pip is available: 25.0.1 -> 25.1\n",
      "[notice] To update, run: python.exe -m pip install --upgrade pip\n"
     ]
    }
   ],
   "source": [
    "pip install kagglehub"
   ]
  },
  {
   "cell_type": "code",
   "execution_count": 30,
   "id": "41d01d12",
   "metadata": {},
   "outputs": [
    {
     "name": "stdout",
     "output_type": "stream",
     "text": [
      "Downloading from https://www.kaggle.com/api/v1/datasets/download/mashlyn/online-retail-ii-uci?dataset_version_number=3...\n"
     ]
    },
    {
     "name": "stderr",
     "output_type": "stream",
     "text": [
      "100%|██████████| 14.5M/14.5M [00:01<00:00, 10.4MB/s]"
     ]
    },
    {
     "name": "stdout",
     "output_type": "stream",
     "text": [
      "Extracting files...\n"
     ]
    },
    {
     "name": "stderr",
     "output_type": "stream",
     "text": [
      "\n"
     ]
    },
    {
     "name": "stdout",
     "output_type": "stream",
     "text": [
      "Path to dataset files: C:\\Users\\shoot\\.cache\\kagglehub\\datasets\\mashlyn\\online-retail-ii-uci\\versions\\3\n"
     ]
    },
    {
     "data": {
      "text/html": [
       "<div>\n",
       "<style scoped>\n",
       "    .dataframe tbody tr th:only-of-type {\n",
       "        vertical-align: middle;\n",
       "    }\n",
       "\n",
       "    .dataframe tbody tr th {\n",
       "        vertical-align: top;\n",
       "    }\n",
       "\n",
       "    .dataframe thead th {\n",
       "        text-align: right;\n",
       "    }\n",
       "</style>\n",
       "<table border=\"1\" class=\"dataframe\">\n",
       "  <thead>\n",
       "    <tr style=\"text-align: right;\">\n",
       "      <th></th>\n",
       "      <th>Invoice</th>\n",
       "      <th>StockCode</th>\n",
       "      <th>Description</th>\n",
       "      <th>Quantity</th>\n",
       "      <th>InvoiceDate</th>\n",
       "      <th>Price</th>\n",
       "      <th>Customer ID</th>\n",
       "      <th>Country</th>\n",
       "    </tr>\n",
       "  </thead>\n",
       "  <tbody>\n",
       "    <tr>\n",
       "      <th>0</th>\n",
       "      <td>489434</td>\n",
       "      <td>85048</td>\n",
       "      <td>15CM CHRISTMAS GLASS BALL 20 LIGHTS</td>\n",
       "      <td>12</td>\n",
       "      <td>2009-12-01 07:45:00</td>\n",
       "      <td>6.95</td>\n",
       "      <td>13085.0</td>\n",
       "      <td>United Kingdom</td>\n",
       "    </tr>\n",
       "    <tr>\n",
       "      <th>1</th>\n",
       "      <td>489434</td>\n",
       "      <td>79323P</td>\n",
       "      <td>PINK CHERRY LIGHTS</td>\n",
       "      <td>12</td>\n",
       "      <td>2009-12-01 07:45:00</td>\n",
       "      <td>6.75</td>\n",
       "      <td>13085.0</td>\n",
       "      <td>United Kingdom</td>\n",
       "    </tr>\n",
       "    <tr>\n",
       "      <th>2</th>\n",
       "      <td>489434</td>\n",
       "      <td>79323W</td>\n",
       "      <td>WHITE CHERRY LIGHTS</td>\n",
       "      <td>12</td>\n",
       "      <td>2009-12-01 07:45:00</td>\n",
       "      <td>6.75</td>\n",
       "      <td>13085.0</td>\n",
       "      <td>United Kingdom</td>\n",
       "    </tr>\n",
       "  </tbody>\n",
       "</table>\n",
       "</div>"
      ],
      "text/plain": [
       "  Invoice StockCode                          Description  Quantity  \\\n",
       "0  489434     85048  15CM CHRISTMAS GLASS BALL 20 LIGHTS        12   \n",
       "1  489434    79323P                   PINK CHERRY LIGHTS        12   \n",
       "2  489434    79323W                  WHITE CHERRY LIGHTS        12   \n",
       "\n",
       "           InvoiceDate  Price  Customer ID         Country  \n",
       "0  2009-12-01 07:45:00   6.95      13085.0  United Kingdom  \n",
       "1  2009-12-01 07:45:00   6.75      13085.0  United Kingdom  \n",
       "2  2009-12-01 07:45:00   6.75      13085.0  United Kingdom  "
      ]
     },
     "execution_count": 30,
     "metadata": {},
     "output_type": "execute_result"
    }
   ],
   "source": [
    "import kagglehub\n",
    "import os\n",
    "import pandas as pd\n",
    "\n",
    "# Download latest version\n",
    "path = kagglehub.dataset_download(\"mashlyn/online-retail-ii-uci\")\n",
    "print(\"Path to dataset files:\", path)\n",
    "retail = pd.read_csv(path + '/' + os.listdir(path)[0])\n",
    "retail.head(3)"
   ]
  },
  {
   "cell_type": "code",
   "execution_count": 31,
   "id": "eaa5861a",
   "metadata": {},
   "outputs": [
    {
     "name": "stdout",
     "output_type": "stream",
     "text": [
      "Population Mean TotalPrice (UK): 16.69\n",
      "Sample size: 30, Mean TotalPrice: 11.88\n",
      "Sample size: 100, Mean TotalPrice: 16.09\n",
      "Sample size: 300, Mean TotalPrice: 13.34\n"
     ]
    }
   ],
   "source": [
    "import pandas as pd\n",
    "\n",
    "# Step 1: TotalPrice 계산\n",
    "retail['TotalPrice'] = retail['Quantity'] * retail['Price']\n",
    "\n",
    "# Step 2: 영국 데이터 필터링\n",
    "uk = retail[retail['Country'] == 'United Kingdom']\n",
    "uk_total = uk['TotalPrice'].dropna()\n",
    "\n",
    "# Step 3: 모집단 평균 출력\n",
    "population_mean = round(uk_total.mean(), 2)\n",
    "print(f\"Population Mean TotalPrice (UK): {population_mean}\")\n",
    "\n",
    "# Step 4: 표본 평균 추정\n",
    "for size in [30, 100, 300]:\n",
    "    sample = uk_total.sample(size, random_state=42)\n",
    "    sample_mean = round(sample.mean(), 2)\n",
    "    print(f\"Sample size: {size}, Mean TotalPrice: {sample_mean}\")"
   ]
  },
  {
   "cell_type": "code",
   "execution_count": 32,
   "id": "09c4d5a2",
   "metadata": {},
   "outputs": [
    {
     "name": "stdout",
     "output_type": "stream",
     "text": [
      "Sample size: 30, Mean: 11.88, 95% CI: (np.float64(6.37841466090658), np.float64(17.38425200576009))\n",
      "Sample size: 100, Mean: 16.09, 95% CI: (np.float64(11.142955150004974), np.float64(21.02784484999502))\n",
      "Sample size: 300, Mean: 13.34, 95% CI: (np.float64(11.264027626023802), np.float64(15.424439040642865))\n"
     ]
    }
   ],
   "source": [
    "import scipy.stats as stats\n",
    "\n",
    "# 신뢰구간 계산 함수\n",
    "def confidence_interval(data, confidence=0.95):\n",
    "    mean = data.mean()\n",
    "    std_err = stats.sem(data)\n",
    "    interval = stats.t.interval(confidence, len(data)-1, loc=mean, scale=std_err)\n",
    "    return mean, interval\n",
    "\n",
    "# 샘플 크기별 신뢰구간 비교\n",
    "sample_sizes = [30, 100, 300]\n",
    "for size in sample_sizes:\n",
    "    sample = uk_total.sample(size, random_state=42)\n",
    "    mean, interval = confidence_interval(sample)\n",
    "    print(f\"Sample size: {size}, Mean: {mean:.2f}, 95% CI: {interval}\")"
   ]
  },
  {
   "cell_type": "code",
   "execution_count": 33,
   "id": "a7c0a808",
   "metadata": {},
   "outputs": [
    {
     "name": "stdout",
     "output_type": "stream",
     "text": [
      "영국과 독일 고객의 평균 구매 금액에 유의한 차이가 있습니다.\n"
     ]
    }
   ],
   "source": [
    "from scipy.stats import ttest_ind\n",
    "\n",
    "# 국가별 TotalPrice 정의\n",
    "uk_total = retail[retail['Country'] == 'United Kingdom']['Quantity'] * retail[retail['Country'] == 'United Kingdom']['Price']\n",
    "germany_total = retail[retail['Country'] == 'Germany']['Quantity'] * retail[retail['Country'] == 'Germany']['Price']\n",
    "\n",
    "# 결측치 제거\n",
    "uk_total = uk_total.dropna()\n",
    "germany_total = germany_total.dropna()\n",
    "\n",
    "# 독립표본 t-검정 (등분산 가정)\n",
    "t_stat, p_value = ttest_ind(uk_total, germany_total, equal_var=True)\n",
    "\n",
    "# 결과 출력\n",
    "if p_value < 0.05:\n",
    "    print(\"영국과 독일 고객의 평균 구매 금액에 유의한 차이가 있습니다.\")\n",
    "else:\n",
    "    print(\"영국과 독일 고객의 평균 구매 금액에 유의한 차이가 없습니다.\")"
   ]
  },
  {
   "cell_type": "markdown",
   "id": "965e7710",
   "metadata": {},
   "source": [
    "### 9번.페이지 B가 전환율은 더 높은데, 데이터가 적어서 확실하진 않아요. 일단은 더 실험해보거나, 리스크 적으면 B로 가보는 것도 나쁘진 않을 것 같습니다."
   ]
  },
  {
   "cell_type": "markdown",
   "id": "deeea991",
   "metadata": {},
   "source": [
    "### 10번. 통계적으로 차이가 있다고 해도, 실제로 별 효과 없으면 굳이 안 바꿀 수도 있을 것 같습니다다.반대로 바꾸는 게 쉽고 싸면, 그냥 적용해보는 것도 괜찮다고 생각을 해봅니다."
   ]
  },
  {
   "cell_type": "markdown",
   "id": "f965c8d8",
   "metadata": {},
   "source": [
    "### 회고: 개인적으로 이번 프로젝트는 힘든 시간이였습니다. 1일차 통계 프로젝트는 제가 평소에 개별적으로 가지고 연습을 했던 데이터와 많이 달라 전처리를 잘 하지 못했어요 저번 미니 프로젝트 때는 그래도 가이드라인이 있어 스스로 많이 해볼 수 있었지만 이번엔 90% 이상 지피티의 도움을 받았어요 통계가 중요하고 많이 부족하다는 것을 알지만 그래도 저에겐 다른 우선 순위가 있기 때문에 당장 앞으로도 그 부분을 우선적으로 채워 나가려고 할 것 같습니다. 항상 미니프로젝트를 할 때마다 수준에 대해 부족함을 느끼고 여전히 해야할 일이 많다고 느껴집니다. 그리고 추가로 통계 강의가 끝나 너무 신이납니다."
   ]
  }
 ],
 "metadata": {
  "kernelspec": {
   "display_name": "Python 3",
   "language": "python",
   "name": "python3"
  },
  "language_info": {
   "codemirror_mode": {
    "name": "ipython",
    "version": 3
   },
   "file_extension": ".py",
   "mimetype": "text/x-python",
   "name": "python",
   "nbconvert_exporter": "python",
   "pygments_lexer": "ipython3",
   "version": "3.13.2"
  }
 },
 "nbformat": 4,
 "nbformat_minor": 5
}
